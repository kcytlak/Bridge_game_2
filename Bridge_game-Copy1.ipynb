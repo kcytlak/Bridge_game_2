{
 "cells": [
  {
   "cell_type": "code",
   "execution_count": 5,
   "id": "3c58dc98",
   "metadata": {},
   "outputs": [
    {
     "name": "stdout",
     "output_type": "stream",
     "text": [
      "[[2, 'Club'], [2, 'Diamond'], [2, 'Heart'], [2, 'Spade'], [3, 'Club'], [3, 'Diamond'], [3, 'Heart'], [3, 'Spade'], [4, 'Club'], [4, 'Diamond'], [4, 'Heart'], [4, 'Spade'], [5, 'Club'], [5, 'Diamond'], [5, 'Heart'], [5, 'Spade'], [6, 'Club'], [6, 'Diamond'], [6, 'Heart'], [6, 'Spade'], [7, 'Club'], [7, 'Diamond'], [7, 'Heart'], [7, 'Spade'], [8, 'Club'], [8, 'Diamond'], [8, 'Heart'], [8, 'Spade'], [9, 'Club'], [9, 'Diamond'], [9, 'Heart'], [9, 'Spade'], [10, 'Club'], [10, 'Diamond'], [10, 'Heart'], [10, 'Spade'], [11, 'Club'], [11, 'Diamond'], [11, 'Heart'], [11, 'Spade'], [12, 'Club'], [12, 'Diamond'], [12, 'Heart'], [12, 'Spade'], [13, 'Club'], [13, 'Diamond'], [13, 'Heart'], [13, 'Spade'], [14, 'Club'], [14, 'Diamond'], [14, 'Heart'], [14, 'Spade']]\n"
     ]
    }
   ],
   "source": [
    "deck_of_cards = []\n",
    "\n",
    "for rank in range(2,15):\n",
    "    for suit in [\"Club\",\"Diamond\",\"Heart\",\"Spade\"]:\n",
    "        deck_of_cards.append([rank,suit])\n",
    "print(deck_of_cards)"
   ]
  },
  {
   "cell_type": "code",
   "execution_count": 8,
   "id": "de974f74",
   "metadata": {},
   "outputs": [],
   "source": [
    "import random"
   ]
  },
  {
   "cell_type": "code",
   "execution_count": 10,
   "id": "dc535286",
   "metadata": {},
   "outputs": [
    {
     "data": {
      "text/plain": [
       "[[9, 'Diamond'],\n",
       " [6, 'Spade'],\n",
       " [2, 'Heart'],\n",
       " [14, 'Club'],\n",
       " [13, 'Spade'],\n",
       " [10, 'Diamond'],\n",
       " [13, 'Club'],\n",
       " [8, 'Spade'],\n",
       " [10, 'Club'],\n",
       " [12, 'Heart'],\n",
       " [2, 'Club'],\n",
       " [10, 'Heart'],\n",
       " [12, 'Diamond'],\n",
       " [12, 'Spade'],\n",
       " [9, 'Heart'],\n",
       " [3, 'Diamond'],\n",
       " [2, 'Diamond'],\n",
       " [5, 'Diamond'],\n",
       " [14, 'Diamond'],\n",
       " [7, 'Heart'],\n",
       " [7, 'Diamond'],\n",
       " [10, 'Spade'],\n",
       " [4, 'Club'],\n",
       " [14, 'Spade'],\n",
       " [5, 'Heart'],\n",
       " [9, 'Club'],\n",
       " [2, 'Spade'],\n",
       " [12, 'Club'],\n",
       " [5, 'Spade'],\n",
       " [3, 'Heart'],\n",
       " [13, 'Heart'],\n",
       " [6, 'Diamond'],\n",
       " [7, 'Club'],\n",
       " [6, 'Heart'],\n",
       " [11, 'Heart'],\n",
       " [5, 'Club'],\n",
       " [3, 'Club'],\n",
       " [4, 'Diamond'],\n",
       " [11, 'Spade'],\n",
       " [4, 'Heart'],\n",
       " [13, 'Diamond'],\n",
       " [6, 'Club'],\n",
       " [3, 'Spade'],\n",
       " [8, 'Club'],\n",
       " [8, 'Heart'],\n",
       " [11, 'Club'],\n",
       " [7, 'Spade'],\n",
       " [8, 'Diamond'],\n",
       " [4, 'Spade'],\n",
       " [11, 'Diamond'],\n",
       " [9, 'Spade'],\n",
       " [14, 'Heart']]"
      ]
     },
     "execution_count": 10,
     "metadata": {},
     "output_type": "execute_result"
    }
   ],
   "source": [
    "def shuffling(deck):\n",
    "    shuffled_deck = []\n",
    "    deck_to_shuffle = deck.copy()\n",
    "\n",
    "    for card in range(1,53):\n",
    "        random_card = random.choice(deck_to_shuffle)\n",
    "        shuffled_deck.append(random_card)\n",
    "        deck_to_shuffle.remove(random_card)\n",
    "    return shuffled_deck\n",
    "    \n",
    "shuffling(deck_of_cards)"
   ]
  },
  {
   "cell_type": "code",
   "execution_count": 11,
   "id": "2e3afbd7",
   "metadata": {},
   "outputs": [
    {
     "data": {
      "text/plain": [
       "{'North': [[7, 'Heart'],\n",
       "  [8, 'Club'],\n",
       "  [9, 'Club'],\n",
       "  [3, 'Club'],\n",
       "  [7, 'Spade'],\n",
       "  [3, 'Diamond'],\n",
       "  [13, 'Club'],\n",
       "  [8, 'Diamond'],\n",
       "  [13, 'Diamond'],\n",
       "  [10, 'Spade'],\n",
       "  [6, 'Club'],\n",
       "  [11, 'Heart'],\n",
       "  [2, 'Diamond']],\n",
       " 'East': [[14, 'Spade'],\n",
       "  [12, 'Diamond'],\n",
       "  [12, 'Spade'],\n",
       "  [7, 'Diamond'],\n",
       "  [6, 'Spade'],\n",
       "  [4, 'Heart'],\n",
       "  [11, 'Diamond'],\n",
       "  [14, 'Diamond'],\n",
       "  [11, 'Spade'],\n",
       "  [10, 'Heart'],\n",
       "  [8, 'Heart'],\n",
       "  [14, 'Club'],\n",
       "  [5, 'Club']],\n",
       " 'South': [[7, 'Club'],\n",
       "  [10, 'Club'],\n",
       "  [12, 'Heart'],\n",
       "  [13, 'Spade'],\n",
       "  [13, 'Heart'],\n",
       "  [5, 'Diamond'],\n",
       "  [2, 'Heart'],\n",
       "  [9, 'Diamond'],\n",
       "  [4, 'Club'],\n",
       "  [4, 'Diamond'],\n",
       "  [8, 'Spade'],\n",
       "  [3, 'Heart'],\n",
       "  [5, 'Spade']],\n",
       " 'West': [[6, 'Diamond'],\n",
       "  [3, 'Spade'],\n",
       "  [11, 'Club'],\n",
       "  [14, 'Heart'],\n",
       "  [6, 'Heart'],\n",
       "  [2, 'Spade'],\n",
       "  [12, 'Club'],\n",
       "  [2, 'Club'],\n",
       "  [9, 'Spade'],\n",
       "  [10, 'Diamond'],\n",
       "  [4, 'Spade'],\n",
       "  [5, 'Heart'],\n",
       "  [9, 'Heart']]}"
      ]
     },
     "execution_count": 11,
     "metadata": {},
     "output_type": "execute_result"
    }
   ],
   "source": [
    "def Deal_cards(deck): \n",
    "    North = []\n",
    "    East = []\n",
    "    South = []\n",
    "    West = []\n",
    "    Players = {\"North\": North, \"East\": East, \"South\": South, \"West\": West}\n",
    "\n",
    "    for x in range(0,50,4):\n",
    "        North.append(deck[x])\n",
    "        East.append(deck[x+1])\n",
    "        South.append(deck[x+2])\n",
    "        West.append(deck[x+3])\n",
    "    return Players\n",
    "    print(Players)\n",
    "\n",
    "deal = Deal_cards(shuffling(deck_of_cards))\n",
    "deal"
   ]
  },
  {
   "cell_type": "code",
   "execution_count": 12,
   "id": "de37f4a9",
   "metadata": {},
   "outputs": [
    {
     "name": "stdout",
     "output_type": "stream",
     "text": [
      "Number of points player: 7, distribution: 5C, 4D, 2H, 2S\n",
      "Number of points player: 18, distribution: 2C, 4D, 3H, 4S\n",
      "Number of points player: 8, distribution: 3C, 3D, 4H, 3S\n",
      "Number of points player: 7, distribution: 3C, 2D, 4H, 4S\n"
     ]
    },
    {
     "data": {
      "text/plain": [
       "(7, None)"
      ]
     },
     "execution_count": 12,
     "metadata": {},
     "output_type": "execute_result"
    }
   ],
   "source": [
    "def High_card_count(player):\n",
    "    points, clubs, diamonds, hearts, spades = 0, 0, 0, 0, 0\n",
    "    suits = []\n",
    "    for number in range(0,13):\n",
    "        if player[number][0] == 14:\n",
    "            points += 4\n",
    "        if player[number][0] == 13:\n",
    "            points += 3\n",
    "        if player[number][0] == 12:\n",
    "            points += 2\n",
    "        if player[number][0] == 11:\n",
    "            points += 1\n",
    "        suits.append(player[number][1])\n",
    "    clubs = suits.count(\"Club\")\n",
    "    diamonds = suits.count(\"Diamond\")\n",
    "    hearts = suits.count(\"Heart\")\n",
    "    spades = suits.count(\"Spade\")\n",
    "    return points, print(\"Number of points player: {}, distribution: {}C, {}D, {}H, {}S\".format(points, clubs, diamonds, hearts, spades))\n",
    "        \n",
    "High_card_count(deal[\"North\"])\n",
    "High_card_count(deal[\"East\"])\n",
    "High_card_count(deal[\"South\"])\n",
    "High_card_count(deal[\"West\"])\n",
    "    \n",
    "# North[0][0]"
   ]
  },
  {
   "cell_type": "code",
   "execution_count": 13,
   "id": "41448b1e",
   "metadata": {},
   "outputs": [
    {
     "name": "stdout",
     "output_type": "stream",
     "text": [
      "[[7, 'Heart'], [8, 'Club'], [9, 'Club'], [3, 'Club'], [7, 'Spade'], [3, 'Diamond'], [13, 'Club'], [8, 'Diamond'], [13, 'Diamond'], [10, 'Spade'], [6, 'Club'], [11, 'Heart'], [2, 'Diamond']]\n",
      "[[14, 'Spade'], [12, 'Diamond'], [12, 'Spade'], [7, 'Diamond'], [6, 'Spade'], [4, 'Heart'], [11, 'Diamond'], [14, 'Diamond'], [11, 'Spade'], [10, 'Heart'], [8, 'Heart'], [14, 'Club'], [5, 'Club']]\n",
      "[[7, 'Club'], [10, 'Club'], [12, 'Heart'], [13, 'Spade'], [13, 'Heart'], [5, 'Diamond'], [2, 'Heart'], [9, 'Diamond'], [4, 'Club'], [4, 'Diamond'], [8, 'Spade'], [3, 'Heart'], [5, 'Spade']]\n",
      "[[6, 'Diamond'], [3, 'Spade'], [11, 'Club'], [14, 'Heart'], [6, 'Heart'], [2, 'Spade'], [12, 'Club'], [2, 'Club'], [9, 'Spade'], [10, 'Diamond'], [4, 'Spade'], [5, 'Heart'], [9, 'Heart']]\n"
     ]
    }
   ],
   "source": [
    "print(deal[\"North\"])\n",
    "print(deal[\"East\"])\n",
    "print(deal[\"South\"])\n",
    "print(deal[\"West\"])"
   ]
  },
  {
   "cell_type": "code",
   "execution_count": 81,
   "id": "a5684f5f",
   "metadata": {},
   "outputs": [],
   "source": [
    "def game(player1, player2, player3, player4): #1NT, player1 always starts\n",
    "    \n",
    "    number_of_tricks_taken = 0 \n",
    "    \n",
    "    for round_number in range(13):\n",
    "        taking_player = ''\n",
    "        \n",
    "        left_cards = 12 - round_number\n",
    "        player1_card = input(\"Your cards: {}, \\n Which card do you want to put on the table? Choose from 0 to {} \\n\".format(deal[\"North\"], left_cards))\n",
    "#         while player1_card not in list(range(left_cards+1)):\n",
    "#             player1_card = input(\"Please choose number from 0 to {} \\n\".format(left_cards))\n",
    "        \n",
    "        player1_card_on_the_table = deal[\"North\"][int(player1_card)]\n",
    "        taking_player = 'player1'\n",
    "        deal[\"North\"].pop(int(player1_card))\n",
    "        \n",
    "        player2_card_on_the_table = deal[\"East\"][12 - round_number]\n",
    "        deal[\"East\"].pop(int(12 - round_number))\n",
    "        if player1_card_on_the_table[1] == player2_card_on_the_table[1] and player1_card_on_the_table[0] < player2_card_on_the_table[0]:\n",
    "            taking_player = 'player2'\n",
    "        \n",
    "        player3_card_on_the_table = deal[\"South\"][12 - round_number]\n",
    "        deal[\"South\"].pop(int(12 - round_number))\n",
    "        if taking_player == 'player1':\n",
    "            if player1_card_on_the_table[1] == player3_card_on_the_table[1] and player1_card_on_the_table[0] < player3_card_on_the_table[0]:\n",
    "                taking_player = 'player3'\n",
    "        elif taking_player == 'player2':\n",
    "            if player2_card_on_the_table[1] == player3_card_on_the_table[1] and player2_card_on_the_table[0] < player3_card_on_the_table[0]:\n",
    "                taking_player = 'player3'\n",
    "        \n",
    "        player4_card_on_the_table = deal[\"West\"][12 - round_number]\n",
    "        deal[\"West\"].pop(int(12 - round_number))\n",
    "        if taking_player == 'player1':\n",
    "            if player1_card_on_the_table[1] == player4_card_on_the_table[1] and player1_card_on_the_table[0] < player4_card_on_the_table[0]:\n",
    "                taking_player = 'player4'\n",
    "        elif taking_player == 'player2':\n",
    "            if player2_card_on_the_table[1] == player4_card_on_the_table[1] and player2_card_on_the_table[0] < player4_card_on_the_table[0]:\n",
    "                taking_player = 'player4'\n",
    "        elif taking_player == 'player3':\n",
    "            if player3_card_on_the_table[1] == player4_card_on_the_table[1] and player3_card_on_the_table[0] < player4_card_on_the_table[0]:\n",
    "                taking_player = 'player4'\n",
    "        \n",
    "        if taking_player == 'player1' or taking_player == 'player3':    \n",
    "            number_of_tricks_taken += 1\n",
    "            \n",
    "        print(\"Your card: {}\\n Other players cards: player2 {}, player3 {}, player4 {}\\n {} takes trick\".format(player1_card_on_the_table, player2_card_on_the_table, player3_card_on_the_table, player4_card_on_the_table, taking_player))\n",
    "\n",
    "    return print (\"You have taken {} tricks and you {}\".format(number_of_tricks_taken, 'Won' if number_of_tricks_taken > 6 else 'Lost'))\n",
    "        "
   ]
  },
  {
   "cell_type": "code",
   "execution_count": 82,
   "id": "8f92ef48",
   "metadata": {},
   "outputs": [
    {
     "name": "stdout",
     "output_type": "stream",
     "text": [
      "Your cards: [[13, 'Club'], [6, 'Diamond'], [4, 'Club'], [5, 'Heart'], [3, 'Diamond'], [10, 'Spade'], [6, 'Spade'], [14, 'Heart'], [4, 'Spade'], [5, 'Club'], [2, 'Spade'], [13, 'Heart'], [11, 'Spade']], \n",
      " Which card do you want to put on the table? Choose from 0 to 12 \n",
      "0\n",
      "Your card: [13, 'Club']\n",
      " Other players cards: player2 [7, 'Heart'], player3 [11, 'Heart'], player4 [7, 'Club']\n",
      " player1 takes trick\n",
      "Your cards: [[6, 'Diamond'], [4, 'Club'], [5, 'Heart'], [3, 'Diamond'], [10, 'Spade'], [6, 'Spade'], [14, 'Heart'], [4, 'Spade'], [5, 'Club'], [2, 'Spade'], [13, 'Heart'], [11, 'Spade']], \n",
      " Which card do you want to put on the table? Choose from 0 to 11 \n",
      "0\n",
      "Your card: [6, 'Diamond']\n",
      " Other players cards: player2 [12, 'Club'], player3 [8, 'Diamond'], player4 [3, 'Heart']\n",
      " player3 takes trick\n",
      "Your cards: [[4, 'Club'], [5, 'Heart'], [3, 'Diamond'], [10, 'Spade'], [6, 'Spade'], [14, 'Heart'], [4, 'Spade'], [5, 'Club'], [2, 'Spade'], [13, 'Heart'], [11, 'Spade']], \n",
      " Which card do you want to put on the table? Choose from 0 to 10 \n",
      "5\n",
      "Your card: [14, 'Heart']\n",
      " Other players cards: player2 [3, 'Spade'], player3 [5, 'Diamond'], player4 [10, 'Diamond']\n",
      " player1 takes trick\n",
      "Your cards: [[4, 'Club'], [5, 'Heart'], [3, 'Diamond'], [10, 'Spade'], [6, 'Spade'], [4, 'Spade'], [5, 'Club'], [2, 'Spade'], [13, 'Heart'], [11, 'Spade']], \n",
      " Which card do you want to put on the table? Choose from 0 to 9 \n",
      "6\n",
      "Your card: [5, 'Club']\n",
      " Other players cards: player2 [9, 'Heart'], player3 [2, 'Diamond'], player4 [9, 'Diamond']\n",
      " player1 takes trick\n",
      "Your cards: [[4, 'Club'], [5, 'Heart'], [3, 'Diamond'], [10, 'Spade'], [6, 'Spade'], [4, 'Spade'], [2, 'Spade'], [13, 'Heart'], [11, 'Spade']], \n",
      " Which card do you want to put on the table? Choose from 0 to 8 \n",
      "8\n",
      "Your card: [11, 'Spade']\n",
      " Other players cards: player2 [7, 'Spade'], player3 [10, 'Club'], player4 [8, 'Heart']\n",
      " player1 takes trick\n",
      "Your cards: [[4, 'Club'], [5, 'Heart'], [3, 'Diamond'], [10, 'Spade'], [6, 'Spade'], [4, 'Spade'], [2, 'Spade'], [13, 'Heart']], \n",
      " Which card do you want to put on the table? Choose from 0 to 7 \n",
      "7\n",
      "Your card: [13, 'Heart']\n",
      " Other players cards: player2 [3, 'Club'], player3 [11, 'Diamond'], player4 [7, 'Diamond']\n",
      " player1 takes trick\n",
      "Your cards: [[4, 'Club'], [5, 'Heart'], [3, 'Diamond'], [10, 'Spade'], [6, 'Spade'], [4, 'Spade'], [2, 'Spade']], \n",
      " Which card do you want to put on the table? Choose from 0 to 6 \n",
      "6\n",
      "Your card: [2, 'Spade']\n",
      " Other players cards: player2 [12, 'Spade'], player3 [2, 'Club'], player4 [5, 'Spade']\n",
      " player2 takes trick\n",
      "Your cards: [[4, 'Club'], [5, 'Heart'], [3, 'Diamond'], [10, 'Spade'], [6, 'Spade'], [4, 'Spade']], \n",
      " Which card do you want to put on the table? Choose from 0 to 5 \n",
      "4\n",
      "Your card: [6, 'Spade']\n",
      " Other players cards: player2 [13, 'Diamond'], player3 [14, 'Spade'], player4 [4, 'Diamond']\n",
      " player3 takes trick\n",
      "Your cards: [[4, 'Club'], [5, 'Heart'], [3, 'Diamond'], [10, 'Spade'], [4, 'Spade']], \n",
      " Which card do you want to put on the table? Choose from 0 to 4 \n",
      "2\n",
      "Your card: [3, 'Diamond']\n",
      " Other players cards: player2 [6, 'Club'], player3 [14, 'Club'], player4 [8, 'Spade']\n",
      " player1 takes trick\n",
      "Your cards: [[4, 'Club'], [5, 'Heart'], [10, 'Spade'], [4, 'Spade']], \n",
      " Which card do you want to put on the table? Choose from 0 to 3 \n",
      "3\n",
      "Your card: [4, 'Spade']\n",
      " Other players cards: player2 [8, 'Club'], player3 [10, 'Heart'], player4 [13, 'Spade']\n",
      " player4 takes trick\n",
      "Your cards: [[4, 'Club'], [5, 'Heart'], [10, 'Spade']], \n",
      " Which card do you want to put on the table? Choose from 0 to 2 \n",
      "2\n",
      "Your card: [10, 'Spade']\n",
      " Other players cards: player2 [9, 'Club'], player3 [2, 'Heart'], player4 [9, 'Spade']\n",
      " player1 takes trick\n",
      "Your cards: [[4, 'Club'], [5, 'Heart']], \n",
      " Which card do you want to put on the table? Choose from 0 to 1 \n",
      "1\n",
      "Your card: [5, 'Heart']\n",
      " Other players cards: player2 [11, 'Club'], player3 [12, 'Diamond'], player4 [6, 'Heart']\n",
      " player4 takes trick\n",
      "Your cards: [[4, 'Club']], \n",
      " Which card do you want to put on the table? Choose from 0 to 0 \n",
      "0\n",
      "Your card: [4, 'Club']\n",
      " Other players cards: player2 [14, 'Diamond'], player3 [4, 'Heart'], player4 [12, 'Heart']\n",
      " player1 takes trick\n",
      "You have taken 10 tricks and you Won\n"
     ]
    }
   ],
   "source": [
    "# opening = input(\"Your cards: {}, \\n Which card do you want to put on the table: \\n\".format(deal[\"North\"]))\n",
    "\n",
    "deal = Deal_cards(shuffling(deck_of_cards))\n",
    "game(deal[\"North\"], deal[\"East\"], deal[\"South\"], deal[\"West\"])"
   ]
  },
  {
   "cell_type": "code",
   "execution_count": null,
   "id": "1c036c67",
   "metadata": {},
   "outputs": [],
   "source": [
    "## FOR LATER\n",
    "\n",
    "# def opening_bid():\n",
    "# #     opening_player = input(\"Do you want to be opening bidder? \\n Choose 'Y' for Yes and 'N' for No \\n\")\n",
    "# #     player_convention = input(\"What convention do you want to play? Choose: \\n A for Acol \\n SA for Standard American \\n BBB for Bridge Base Basic \\n GF for 2/1 Game Forcing \\n\")   \n",
    "# #     if opening_player == 'Y' and player_convention == 'A':\n",
    "#         bid = input('Choose your opening bid: 1C, 1D, 1H, 1S, 1NT, 2C, 2D, 2H, 2S, 2NT, 3C, 3D, 3H, 3S, 3NT \\n') \n",
    "#     return opening_player, player_convention, bid\n"
   ]
  },
  {
   "cell_type": "code",
   "execution_count": 56,
   "id": "b93c9bf0",
   "metadata": {},
   "outputs": [
    {
     "name": "stdout",
     "output_type": "stream",
     "text": [
      "Do you want to be opening bidder? \n",
      " Choose 'Y' for Yes and 'N' for No \n",
      "Y\n",
      "What convention do ypu want to play? Choose: \n",
      " A for Acol \n",
      " SA for Standard American \n",
      " BBB for Bridge Base Basic \n",
      " GF for 2/1 Game Forcing \n",
      "A\n",
      "Choose your opening bid: 1C, 1D, 1H, 1S, 1NT, 2C, 2D, 2H, 2S, 2NT, 3C, 3D, 3H, 3S, 3NT \n",
      "1C\n"
     ]
    },
    {
     "data": {
      "text/plain": [
       "('Y', 'A', '1C')"
      ]
     },
     "execution_count": 56,
     "metadata": {},
     "output_type": "execute_result"
    }
   ],
   "source": [
    "opening_bid()"
   ]
  },
  {
   "cell_type": "code",
   "execution_count": 69,
   "id": "aa776f6b",
   "metadata": {},
   "outputs": [],
   "source": [
    "# FOR LATER\n",
    "# # 4-3-3-3, 4-4-3-2 and 5-3-3-2\n",
    "\n",
    "# def is_balanced(player):\n",
    "#     clubs, diamonds, hearts, spades = 0, 0, 0, 0\n",
    "#     suits = []\n",
    "    \n",
    "#     for number in range(0,13):\n",
    "#         suits.append(player[number][1])\n",
    "#     clubs = suits.count(\"Club\")\n",
    "#     diamonds = suits.count(\"Diamond\")\n",
    "#     hearts = suits.count(\"Heart\")\n",
    "#     spades = suits.count(\"Spade\")\n",
    "    \n",
    "#     if min(clubs, diamonds, hearts, spades) == 0 or min(clubs, diamonds, hearts, spades) == 1:\n",
    "#         return False \n",
    "    \n",
    "#     if max(clubs, diamonds, hearts, spades) == 7 or max(clubs, diamonds, hearts, spades) == 6:\n",
    "#         return False   \n",
    "    \n",
    "#     if max(clubs, diamonds, hearts, spades) == 5 or max(clubs, diamonds, hearts, spades) == 2 and clubs != 3 and diamonds != 3 and hearts != 3 and spades != 3:\n",
    "#         return False   \n",
    "        \n",
    "#     if max(clubs, diamonds, hearts, spades) == 4 and min(clubs, diamonds, hearts, spades) == 3: # 4-3-3-3\n",
    "#         return True \n",
    "    \n",
    "#     if max(clubs, diamonds, hearts, spades) == 4 and min(clubs, diamonds, hearts, spades) == 2: # 4-4-3-2\n",
    "#         return True \n",
    "    \n",
    "#     if max(clubs, diamonds, hearts, spades) == 5 and min(clubs, diamonds, hearts, spades) == 2: # 5-3-3-2\n",
    "#         return True \n",
    "# fdsa"
   ]
  },
  {
   "cell_type": "code",
   "execution_count": 76,
   "id": "d2e2e487",
   "metadata": {},
   "outputs": [
    {
     "data": {
      "text/plain": [
       "False"
      ]
     },
     "execution_count": 76,
     "metadata": {},
     "output_type": "execute_result"
    }
   ],
   "source": [
    "# is_balanced(deal[\"North\"])\n",
    "# is_balanced(deal[\"East\"])\n",
    "# is_balanced(deal[\"South\"])\n",
    "is_balanced(deal[\"West\"]) #nie działa 5-3-3-2"
   ]
  },
  {
   "cell_type": "code",
   "execution_count": null,
   "id": "e6e353e1",
   "metadata": {},
   "outputs": [],
   "source": [
    "# FOR LATER\n",
    "\n",
    "# def responses():\n",
    "#     response = ''\n",
    "#     if HCP < 6:\n",
    "#         response = 'pass'\n",
    "#         return response\n",
    "    \n",
    "#     if (opener = '1C' or opener = '1D' or opener = '1H' or opener = '1S') and 6 <= High_card_count().HCP <= 9: #tutaj chce żeby mi zwracało HCP i liczbę kart w kolorze, która jest wyliczana w tej funkcji\n",
    "#         response = '1NT'\n",
    "#         return response\n",
    "    \n",
    "#     if (opener = '1C' or opener = '1D' or opener = '1H' or opener = '1S') and 10 <= High_card_count().HCP <= 12 and is_balanced(): #tutaj chce żeby mi zwracało HCP i liczbę kart w kolorze, która jest wyliczana w tej funkcji\n",
    "#         response = '2NT'\n",
    "#         return response\n",
    "    \n",
    "#     if opener = '1C' and High_card_count().HCP <= 9 and High_card_count().distribution >= 4: #tutaj chce żeby mi zwracało HCP i liczbę kart w kolorze, która jest wyliczana w tej funkcji\n",
    "#         response = '2C'\n",
    "#         return response\n",
    "#     if opener = '1D' and High_card_count().HCP <= 9 and High_card_count().distribution >= 4: #tutaj chce żeby mi zwracało HCP i liczbę kart w kolorze, która jest wyliczana w tej funkcji\n",
    "#     if opener = '1H' and High_card_count().HCP <= 9 and High_card_count().distribution >= 4: #tutaj chce żeby mi zwracało HCP i liczbę kart w kolorze, która jest wyliczana w tej funkcji\n",
    "#     if opener = '1S' and High_card_count().HCP <= 9 and High_card_count().distribution >= 4: #tutaj chce żeby mi zwracało HCP i liczbę kart w kolorze, która jest wyliczana w tej funkcji\n",
    "    \n",
    "#     if opener = '1C' and 10 <= High_card_count().HCP <= 12 and High_card_count().distribution >= 4: #tutaj chce żeby mi zwracało HCP i liczbę kart w kolorze, która jest wyliczana w tej funkcji\n",
    "#         response = '3C'\n",
    "#         return response\n",
    "#     if opener = '1D' and 10 <= High_card_count().HCP <= 12 and High_card_count().distribution >= 4: #tutaj chce żeby mi zwracało HCP i liczbę kart w kolorze, która jest wyliczana w tej funkcji\n",
    "#     if opener = '1H' and 10 <= High_card_count().HCP <= 12 and High_card_count().distribution >= 4: #tutaj chce żeby mi zwracało HCP i liczbę kart w kolorze, która jest wyliczana w tej funkcji\n",
    "#     if opener = '1S' and 10 <= High_card_count().HCP <= 12 and High_card_count().distribution >= 4: #tutaj chce żeby mi zwracało HCP i liczbę kart w kolorze, która jest wyliczana w tej funkcji\n",
    "    \n",
    "#     if opener = '1C' and 6 <= High_card_count().HCP <= 10 and High_card_count().distribution >= 5: #tutaj chce żeby mi zwracało HCP i liczbę kart w kolorze, która jest wyliczana w tej funkcji\n",
    "#         response = '4C'\n",
    "#         return response\n",
    "#     if opener = '1D' and 6 <= High_card_count().HCP <= 10 and High_card_count().distribution >= 5: #tutaj chce żeby mi zwracało HCP i liczbę kart w kolorze, która jest wyliczana w tej funkcji\n",
    "#     if opener = '1H' and 6 <= High_card_count().HCP <= 10 and High_card_count().distribution >= 5: #tutaj chce żeby mi zwracało HCP i liczbę kart w kolorze, która jest wyliczana w tej funkcji\n",
    "#     if opener = '1S' and 6 <= High_card_count().HCP <= 10 and High_card_count().distribution >= 5: #tutaj chce żeby mi zwracało HCP i liczbę kart w kolorze, która jest wyliczana w tej funkcji\n",
    "    \n",
    "#     if opener = '1NT' and 6 <= High_card_count().HCP <= 9: #tutaj chce żeby mi zwracało HCP i liczbę kart w kolorze, która jest wyliczana w tej funkcji\n",
    "#         response = 'pass'\n",
    "#         return response\n",
    "#     if opener = '2NT' and 6 <= High_card_count().HCP <= 10 and High_card_count().distribution >= 4: #tutaj chce żeby mi zwracało HCP i liczbę kart w kolorze, która jest wyliczana w tej funkcji\n",
    "#     if opener = '3NT' and 6 <= High_card_count().HCP <= 10 and High_card_count().distribution >= 4: #tutaj chce żeby mi zwracało HCP i liczbę kart w kolorze, która jest wyliczana w tej funkcji\n"
   ]
  }
 ],
 "metadata": {
  "kernelspec": {
   "display_name": "Python 3 (ipykernel)",
   "language": "python",
   "name": "python3"
  },
  "language_info": {
   "codemirror_mode": {
    "name": "ipython",
    "version": 3
   },
   "file_extension": ".py",
   "mimetype": "text/x-python",
   "name": "python",
   "nbconvert_exporter": "python",
   "pygments_lexer": "ipython3",
   "version": "3.9.5"
  }
 },
 "nbformat": 4,
 "nbformat_minor": 5
}
